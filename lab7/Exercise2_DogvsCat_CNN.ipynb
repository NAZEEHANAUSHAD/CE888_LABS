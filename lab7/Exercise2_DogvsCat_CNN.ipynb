{
  "nbformat": 4,
  "nbformat_minor": 0,
  "metadata": {
    "colab": {
      "name": "Exercise2_DogvsCat_CNN.ipynb",
      "provenance": [],
      "collapsed_sections": []
    },
    "kernelspec": {
      "name": "python3",
      "display_name": "Python 3"
    },
    "accelerator": "GPU"
  },
  "cells": [
    {
      "cell_type": "markdown",
      "metadata": {
        "id": "qTh9DiKVslsJ"
      },
      "source": [
        "## Dogs vs. Cats \n",
        "\n",
        "In this competition, you'll write an algorithm to classify whether images contain either a dog or a cat.  This is easy for humans, dogs, and cats. Your computer will find it a bit more difficult.\n",
        "\n",
        "![alt text](https://miro.medium.com/max/3000/1*bhFifratH9DjKqMBTeQG5A.gif)\n",
        "\n",
        "Ref: https://medium.com/@thegrigorian/rolling-in-the-deep-cnn-c8d3f7108c8c"
      ]
    },
    {
      "cell_type": "markdown",
      "metadata": {
        "id": "RSBI-_mSSY1g"
      },
      "source": [
        "Get your API Key from Kaggle using following steps:\n",
        "1. Login to [Kaggle](https://www.kaggle.com/) or Register if you don't have account\n",
        "2. Open Dataset (https://www.kaggle.com/c/dogs-vs-cats/rules) and accept terms and condition. \n",
        "3. On the top right corner click on your Icon and go to accounts and press a button \"Create New API Token\". It will download a JSON file containing your username and key. \n",
        "4. Now, paste both below. \n"
      ]
    },
    {
      "cell_type": "code",
      "metadata": {
        "id": "YmXSOc0tZIGA",
        "colab": {
          "base_uri": "https://localhost:8080/"
        },
        "outputId": "27cbd114-d160-4370-da42-f7db428e6ed7"
      },
      "source": [
        "import os\n",
        "os.environ['KAGGLE_USERNAME'] = \"nazeeha\" # username from the json file\n",
        "os.environ['KAGGLE_KEY'] = \"7c67dcbb3a545f9c9e03ed9440bc04bf\" # key from the json file\n",
        "!kaggle competitions download -c dogs-vs-cats # api copied from kaggle (https://www.kaggle.com/c/dogs-vs-cats/data)"
      ],
      "execution_count": null,
      "outputs": [
        {
          "output_type": "stream",
          "text": [
            "Warning: Looks like you're using an outdated API Version, please consider updating (server 1.5.12 / client 1.5.4)\n",
            "Downloading sampleSubmission.csv to /content\n",
            "\r  0% 0.00/86.8k [00:00<?, ?B/s]\n",
            "100% 86.8k/86.8k [00:00<00:00, 76.5MB/s]\n",
            "Downloading train.zip to /content\n",
            "100% 541M/543M [00:02<00:00, 239MB/s]\n",
            "100% 543M/543M [00:02<00:00, 220MB/s]\n",
            "Downloading test1.zip to /content\n",
            " 91% 247M/271M [00:01<00:00, 245MB/s]\n",
            "100% 271M/271M [00:01<00:00, 233MB/s]\n"
          ],
          "name": "stdout"
        }
      ]
    },
    {
      "cell_type": "code",
      "metadata": {
        "id": "PiwIL8d1n7eS",
        "colab": {
          "base_uri": "https://localhost:8080/"
        },
        "outputId": "261ea498-a793-432c-91f4-b77f7e8dc843"
      },
      "source": [
        "# Unzip training data\n",
        "from zipfile import ZipFile\n",
        "file_name = \"/content/train.zip\"\n",
        "with ZipFile(file_name, 'r') as zip:\n",
        "  zip.extractall()\n",
        "  print('done')"
      ],
      "execution_count": null,
      "outputs": [
        {
          "output_type": "stream",
          "text": [
            "done\n"
          ],
          "name": "stdout"
        }
      ]
    },
    {
      "cell_type": "code",
      "metadata": {
        "id": "sa2Bj5i7pPKV",
        "colab": {
          "base_uri": "https://localhost:8080/"
        },
        "outputId": "6a87b844-a2cf-43e6-f7ff-dae56fef6c36"
      },
      "source": [
        "# Get all the paths\n",
        "data_dir_list = os.listdir('/content/train')\n",
        "#print(data_dir_list)\n",
        "path, dirs, files = next(os.walk(\"/content/train\"))\n",
        "file_count = len(files)\n",
        "print(file_count)"
      ],
      "execution_count": null,
      "outputs": [
        {
          "output_type": "stream",
          "text": [
            "25000\n"
          ],
          "name": "stdout"
        }
      ]
    },
    {
      "cell_type": "code",
      "metadata": {
        "id": "0ERlHkfHqpK8"
      },
      "source": [
        "# Make new base directory\n",
        "original_dataset_dir = '/content/train'\n",
        "base_dir = '/content/cats_and_dogs_small'\n",
        "os.mkdir(base_dir)"
      ],
      "execution_count": null,
      "outputs": []
    },
    {
      "cell_type": "code",
      "metadata": {
        "id": "AANB1UJ6rQhM"
      },
      "source": [
        "train_dir = os.path.join(base_dir, 'train')\n",
        "os.mkdir(train_dir)\n",
        "\n",
        "validation_dir = os.path.join(base_dir, 'validation')\n",
        "os.mkdir(validation_dir)\n",
        "\n",
        "test_dir = os.path.join(base_dir, 'test')\n",
        "os.mkdir(test_dir)\n",
        "\n",
        "train_cats_dir = os.path.join(train_dir, 'cats')\n",
        "os.mkdir(train_cats_dir)\n",
        "\n",
        "train_dogs_dir = os.path.join(train_dir, 'dogs')\n",
        "os.mkdir(train_dogs_dir)\n",
        "\n",
        "validation_cats_dir = os.path.join(validation_dir, 'cats')\n",
        "os.mkdir(validation_cats_dir)\n",
        "\n",
        "validation_dogs_dir = os.path.join(validation_dir, 'dogs')\n",
        "os.mkdir(validation_dogs_dir)\n",
        "\n",
        "test_cats_dir = os.path.join(test_dir, 'cats')\n",
        "os.mkdir(test_cats_dir)\n",
        "\n",
        "test_dogs_dir = os.path.join(test_dir, 'dogs')\n",
        "os.mkdir(test_dogs_dir)"
      ],
      "execution_count": null,
      "outputs": []
    },
    {
      "cell_type": "code",
      "metadata": {
        "id": "ULRgL9s9rV8T"
      },
      "source": [
        "import shutil\n",
        "fnames = ['cat.{}.jpg'.format(i) for i in range(1000)]\n",
        "for fname in fnames:\n",
        "    src = os.path.join(original_dataset_dir, fname)\n",
        "    dst = os.path.join(train_cats_dir, fname)\n",
        "    #print(src,dst)\n",
        "    shutil.copyfile(src, dst)\n",
        "    \n",
        "fnames = ['cat.{}.jpg'.format(i) for i in range(1000, 1500)]\n",
        "for fname in fnames:\n",
        "    src = os.path.join(original_dataset_dir, fname)\n",
        "    dst = os.path.join(validation_cats_dir, fname)\n",
        "    shutil.copyfile(src, dst)\n",
        "\n",
        "fnames = ['cat.{}.jpg'.format(i) for i in range(1500, 2000)]\n",
        "for fname in fnames:\n",
        "    src = os.path.join(original_dataset_dir, fname)\n",
        "    dst = os.path.join(test_cats_dir, fname)\n",
        "    shutil.copyfile(src, dst)\n",
        "    \n",
        "fnames = ['dog.{}.jpg'.format(i) for i in range(1000)]\n",
        "for fname in fnames:\n",
        "    src = os.path.join(original_dataset_dir, fname)\n",
        "    dst = os.path.join(train_dogs_dir, fname)\n",
        "    shutil.copyfile(src, dst)\n",
        "\n",
        "fnames = ['dog.{}.jpg'.format(i) for i in range(1000, 1500)]\n",
        "for fname in fnames:\n",
        "    src = os.path.join(original_dataset_dir, fname)\n",
        "    dst = os.path.join(validation_dogs_dir, fname)\n",
        "    shutil.copyfile(src, dst)\n",
        "\n",
        "fnames = ['dog.{}.jpg'.format(i) for i in range(1500, 2000)]\n",
        "for fname in fnames:\n",
        "    src = os.path.join(original_dataset_dir, fname)\n",
        "    dst = os.path.join(test_dogs_dir, fname)\n",
        "    shutil.copyfile(src, dst)"
      ],
      "execution_count": null,
      "outputs": []
    },
    {
      "cell_type": "code",
      "metadata": {
        "id": "ul3XAbIyr7vC",
        "colab": {
          "base_uri": "https://localhost:8080/"
        },
        "outputId": "69a000b3-7011-44ac-a2b3-3e50da61d67f"
      },
      "source": [
        "print('total training cat images:', len(os.listdir(train_cats_dir)))\n",
        "print('total training dog images:', len(os.listdir(train_dogs_dir)))\n",
        "print('total validation cat images:', len(os.listdir(validation_cats_dir)))\n",
        "\n",
        "print('total validation dog images:', len(os.listdir(validation_dogs_dir)))\n",
        "print('total test cat images:', len(os.listdir(test_cats_dir)))\n",
        "print('total test dog images:', len(os.listdir(test_dogs_dir)))"
      ],
      "execution_count": null,
      "outputs": [
        {
          "output_type": "stream",
          "text": [
            "total training cat images: 1000\n",
            "total training dog images: 1000\n",
            "total validation cat images: 500\n",
            "total validation dog images: 500\n",
            "total test cat images: 500\n",
            "total test dog images: 500\n"
          ],
          "name": "stdout"
        }
      ]
    },
    {
      "cell_type": "code",
      "metadata": {
        "id": "o9yTA21_r-ma",
        "colab": {
          "base_uri": "https://localhost:8080/",
          "height": 794
        },
        "outputId": "b07348ee-29e6-4ecd-b4f2-f7d3ad8ef4e4"
      },
      "source": [
        "from keras import layers\n",
        "from keras import models\n",
        "\n",
        "model = models.Sequential()\n",
        "model.add(layers.Conv2D(32, (3, 3), activation='relu', input_shape=(150, 150, 3)))\n",
        "model.add(layers.MaxPooling2D((2, 2)))\n",
        "model.add(layers.Conv2D(64, (3, 3), activation='relu'))\n",
        "model.add(layers.MaxPooling2D((2, 2)))\n",
        "model.add(layers.Conv2D(128, (3, 3), activation='relu'))\n",
        "model.add(layers.MaxPooling2D((2, 2)))\n",
        "model.add(layers.Conv2D(128, (3, 3), activation='relu'))\n",
        "model.add(layers.MaxPooling2D((2, 2)))\n",
        "model.add(layers.Flatten())\n",
        "model.add(layers.Dense(512, activation='relu'))\n",
        "model.add(layers.Dense(1, activation='sigmoid'))\n",
        "model.summary()"
      ],
      "execution_count": null,
      "outputs": [
        {
          "output_type": "stream",
          "text": [
            "Using TensorFlow backend.\n"
          ],
          "name": "stderr"
        },
        {
          "output_type": "display_data",
          "data": {
            "text/html": [
              "<p style=\"color: red;\">\n",
              "The default version of TensorFlow in Colab will soon switch to TensorFlow 2.x.<br>\n",
              "We recommend you <a href=\"https://www.tensorflow.org/guide/migrate\" target=\"_blank\">upgrade</a> now \n",
              "or ensure your notebook will continue to use TensorFlow 1.x via the <code>%tensorflow_version 1.x</code> magic:\n",
              "<a href=\"https://colab.research.google.com/notebooks/tensorflow_version.ipynb\" target=\"_blank\">more info</a>.</p>\n"
            ],
            "text/plain": [
              "<IPython.core.display.HTML object>"
            ]
          },
          "metadata": {
            "tags": []
          }
        },
        {
          "output_type": "stream",
          "text": [
            "WARNING:tensorflow:From /usr/local/lib/python3.6/dist-packages/keras/backend/tensorflow_backend.py:66: The name tf.get_default_graph is deprecated. Please use tf.compat.v1.get_default_graph instead.\n",
            "\n",
            "WARNING:tensorflow:From /usr/local/lib/python3.6/dist-packages/keras/backend/tensorflow_backend.py:541: The name tf.placeholder is deprecated. Please use tf.compat.v1.placeholder instead.\n",
            "\n",
            "WARNING:tensorflow:From /usr/local/lib/python3.6/dist-packages/keras/backend/tensorflow_backend.py:4432: The name tf.random_uniform is deprecated. Please use tf.random.uniform instead.\n",
            "\n",
            "WARNING:tensorflow:From /usr/local/lib/python3.6/dist-packages/keras/backend/tensorflow_backend.py:4267: The name tf.nn.max_pool is deprecated. Please use tf.nn.max_pool2d instead.\n",
            "\n",
            "Model: \"sequential_1\"\n",
            "_________________________________________________________________\n",
            "Layer (type)                 Output Shape              Param #   \n",
            "=================================================================\n",
            "conv2d_1 (Conv2D)            (None, 148, 148, 32)      896       \n",
            "_________________________________________________________________\n",
            "max_pooling2d_1 (MaxPooling2 (None, 74, 74, 32)        0         \n",
            "_________________________________________________________________\n",
            "conv2d_2 (Conv2D)            (None, 72, 72, 64)        18496     \n",
            "_________________________________________________________________\n",
            "max_pooling2d_2 (MaxPooling2 (None, 36, 36, 64)        0         \n",
            "_________________________________________________________________\n",
            "conv2d_3 (Conv2D)            (None, 34, 34, 128)       73856     \n",
            "_________________________________________________________________\n",
            "max_pooling2d_3 (MaxPooling2 (None, 17, 17, 128)       0         \n",
            "_________________________________________________________________\n",
            "conv2d_4 (Conv2D)            (None, 15, 15, 128)       147584    \n",
            "_________________________________________________________________\n",
            "max_pooling2d_4 (MaxPooling2 (None, 7, 7, 128)         0         \n",
            "_________________________________________________________________\n",
            "flatten_1 (Flatten)          (None, 6272)              0         \n",
            "_________________________________________________________________\n",
            "dense_1 (Dense)              (None, 512)               3211776   \n",
            "_________________________________________________________________\n",
            "dense_2 (Dense)              (None, 1)                 513       \n",
            "=================================================================\n",
            "Total params: 3,453,121\n",
            "Trainable params: 3,453,121\n",
            "Non-trainable params: 0\n",
            "_________________________________________________________________\n"
          ],
          "name": "stdout"
        }
      ]
    },
    {
      "cell_type": "code",
      "metadata": {
        "id": "2mG8wekxsBVS",
        "colab": {
          "base_uri": "https://localhost:8080/",
          "height": 165
        },
        "outputId": "7a4d3932-3c3e-405c-81e3-7466b7e624c7"
      },
      "source": [
        "from keras import optimizers\n",
        "model.compile(loss='binary_crossentropy', \n",
        "              optimizer=optimizers.RMSprop(lr=1e-4),\n",
        "              metrics=['acc'])"
      ],
      "execution_count": null,
      "outputs": [
        {
          "output_type": "stream",
          "text": [
            "WARNING:tensorflow:From /usr/local/lib/python3.6/dist-packages/keras/optimizers.py:793: The name tf.train.Optimizer is deprecated. Please use tf.compat.v1.train.Optimizer instead.\n",
            "\n",
            "WARNING:tensorflow:From /usr/local/lib/python3.6/dist-packages/keras/backend/tensorflow_backend.py:3657: The name tf.log is deprecated. Please use tf.math.log instead.\n",
            "\n",
            "WARNING:tensorflow:From /usr/local/lib/python3.6/dist-packages/tensorflow_core/python/ops/nn_impl.py:183: where (from tensorflow.python.ops.array_ops) is deprecated and will be removed in a future version.\n",
            "Instructions for updating:\n",
            "Use tf.where in 2.0, which has the same broadcast rule as np.where\n"
          ],
          "name": "stdout"
        }
      ]
    },
    {
      "cell_type": "markdown",
      "metadata": {
        "id": "7zS4Klm8qWp6"
      },
      "source": [
        "## Using ImageDataGenerator to read images from directories\n",
        "As you know by now, data should be formatted into appropriately preprocessed floatingpoint tensors before being fed into the network. Currently, the data sits on a drive as JPEG files, so the steps for getting it into the network are roughly as follows:\n",
        "\n",
        "* Read the picture files.\n",
        "* Decode the JPEG content to RGB grids of pixels.\n",
        "* Convert these into floating-point tensors.\n",
        "* Rescale the pixel values (between 0 and 255) to the [0, 1] interval (as you know, neural networks prefer to deal with small input values).\n",
        "\n",
        "It may seem a bit daunting, but fortunately Keras has utilities to take care of these steps automatically. Keras has a module with image-processing helper tools, located at keras.preprocessing.image. In particular, it contains the class ImageDataGenerator,which lets you quickly set up Python generators that can automatically turn image files on disk into batches of preprocessed tensors."
      ]
    },
    {
      "cell_type": "code",
      "metadata": {
        "id": "XJ7XU7t9sEh6",
        "colab": {
          "base_uri": "https://localhost:8080/",
          "height": 54
        },
        "outputId": "fa65adfb-672f-4953-a246-f0e720624b6e"
      },
      "source": [
        "\n",
        "\n",
        "train_datagen = ImageDataGenerator(rescale=1./255)\n",
        "test_datagen = ImageDataGenerator(rescale=1./255)\n",
        "\n",
        "train_generator = train_datagen.flow_from_directory(train_dir,\n",
        "                                                    target_size=(150, 150), \n",
        "                                                    batch_size=20,\n",
        "                                                    class_mode='binary')\n",
        "\n",
        "validation_generator = test_datagen.flow_from_directory(validation_dir,\n",
        "                                                        target_size=(150, 150),\n",
        "                                                        batch_size=20,\n",
        "                                                        class_mode='binary')"
      ],
      "execution_count": null,
      "outputs": [
        {
          "output_type": "stream",
          "text": [
            "Found 2000 images belonging to 2 classes.\n",
            "Found 1000 images belonging to 2 classes.\n"
          ],
          "name": "stdout"
        }
      ]
    },
    {
      "cell_type": "markdown",
      "metadata": {
        "id": "SEgLywySqm4u"
      },
      "source": [
        "Let’s fit the model to the data using the generator. You do so using the fit_generator method, the equivalent of fit for data generators like this one. It expects as its first argument a Python generator that will yield batches of inputs and targets indefinitely,like this one does. Because the data is being generated endlessly, the Keras model needs to know how many samples to draw from the generator before declaring anepoch over. This is the role of the `steps_per_epoch` argument: after having drawn `steps_per_epoch` batches from the generator—that is, after having run for `steps_per_epoch` gradient descent steps—the fitting process will go to the next epoch. In this case, batches are 20 samples, so it will take 100 batches until you see your target of 2,000 samples.\n",
        "\n",
        "When using fit_generator, you can pass a validation_data argument, much as with the fit method. It’s important to note that this argument is allowed to be a data generator, but it could also be a tuple of Numpy arrays. If you pass a generator as validation_data, then this generator is expected to yield batches of validation data endlessly; thus you should also specify the validation_steps argument, which tells the process how many batches to draw from the validation generator for evaluation."
      ]
    },
    {
      "cell_type": "code",
      "metadata": {
        "id": "yMyfPphJsJG6",
        "colab": {
          "base_uri": "https://localhost:8080/",
          "height": 1000
        },
        "outputId": "327d5f4e-31e9-4d8f-fc2e-757e5da644ef"
      },
      "source": [
        "history = model.fit_generator(train_generator,\n",
        "                              steps_per_epoch=100,\n",
        "                              epochs=30,\n",
        "                              validation_data=validation_generator,\n",
        "                              validation_steps=10)"
      ],
      "execution_count": null,
      "outputs": [
        {
          "output_type": "stream",
          "text": [
            "WARNING:tensorflow:From /usr/local/lib/python3.6/dist-packages/keras/backend/tensorflow_backend.py:1033: The name tf.assign_add is deprecated. Please use tf.compat.v1.assign_add instead.\n",
            "\n",
            "WARNING:tensorflow:From /usr/local/lib/python3.6/dist-packages/keras/backend/tensorflow_backend.py:1020: The name tf.assign is deprecated. Please use tf.compat.v1.assign instead.\n",
            "\n",
            "WARNING:tensorflow:From /usr/local/lib/python3.6/dist-packages/keras/backend/tensorflow_backend.py:3005: The name tf.Session is deprecated. Please use tf.compat.v1.Session instead.\n",
            "\n",
            "Epoch 1/30\n",
            "WARNING:tensorflow:From /usr/local/lib/python3.6/dist-packages/keras/backend/tensorflow_backend.py:190: The name tf.get_default_session is deprecated. Please use tf.compat.v1.get_default_session instead.\n",
            "\n",
            "WARNING:tensorflow:From /usr/local/lib/python3.6/dist-packages/keras/backend/tensorflow_backend.py:197: The name tf.ConfigProto is deprecated. Please use tf.compat.v1.ConfigProto instead.\n",
            "\n",
            "WARNING:tensorflow:From /usr/local/lib/python3.6/dist-packages/keras/backend/tensorflow_backend.py:207: The name tf.global_variables is deprecated. Please use tf.compat.v1.global_variables instead.\n",
            "\n",
            "WARNING:tensorflow:From /usr/local/lib/python3.6/dist-packages/keras/backend/tensorflow_backend.py:216: The name tf.is_variable_initialized is deprecated. Please use tf.compat.v1.is_variable_initialized instead.\n",
            "\n",
            "WARNING:tensorflow:From /usr/local/lib/python3.6/dist-packages/keras/backend/tensorflow_backend.py:223: The name tf.variables_initializer is deprecated. Please use tf.compat.v1.variables_initializer instead.\n",
            "\n",
            "100/100 [==============================] - 21s 210ms/step - loss: 0.6935 - acc: 0.5310 - val_loss: 0.6835 - val_acc: 0.5650\n",
            "Epoch 2/30\n",
            "100/100 [==============================] - 6s 63ms/step - loss: 0.6645 - acc: 0.5960 - val_loss: 0.6376 - val_acc: 0.6150\n",
            "Epoch 3/30\n",
            "100/100 [==============================] - 6s 63ms/step - loss: 0.6234 - acc: 0.6550 - val_loss: 0.6096 - val_acc: 0.6900\n",
            "Epoch 4/30\n",
            "100/100 [==============================] - 6s 63ms/step - loss: 0.5734 - acc: 0.6940 - val_loss: 0.5797 - val_acc: 0.7050\n",
            "Epoch 5/30\n",
            "100/100 [==============================] - 6s 65ms/step - loss: 0.5332 - acc: 0.7325 - val_loss: 0.5468 - val_acc: 0.6950\n",
            "Epoch 6/30\n",
            "100/100 [==============================] - 7s 65ms/step - loss: 0.5145 - acc: 0.7415 - val_loss: 0.6726 - val_acc: 0.6300\n",
            "Epoch 7/30\n",
            "100/100 [==============================] - 6s 65ms/step - loss: 0.4865 - acc: 0.7640 - val_loss: 0.5019 - val_acc: 0.7700\n",
            "Epoch 8/30\n",
            "100/100 [==============================] - 6s 64ms/step - loss: 0.4551 - acc: 0.7815 - val_loss: 0.5552 - val_acc: 0.7000\n",
            "Epoch 9/30\n",
            "100/100 [==============================] - 6s 63ms/step - loss: 0.4356 - acc: 0.8060 - val_loss: 0.6279 - val_acc: 0.6800\n",
            "Epoch 10/30\n",
            "100/100 [==============================] - 6s 64ms/step - loss: 0.4097 - acc: 0.8115 - val_loss: 0.5062 - val_acc: 0.7250\n",
            "Epoch 11/30\n",
            "100/100 [==============================] - 6s 63ms/step - loss: 0.3906 - acc: 0.8210 - val_loss: 0.6678 - val_acc: 0.6500\n",
            "Epoch 12/30\n",
            "100/100 [==============================] - 6s 63ms/step - loss: 0.3574 - acc: 0.8470 - val_loss: 0.5225 - val_acc: 0.7550\n",
            "Epoch 13/30\n",
            "100/100 [==============================] - 6s 63ms/step - loss: 0.3409 - acc: 0.8560 - val_loss: 0.6052 - val_acc: 0.6700\n",
            "Epoch 14/30\n",
            "100/100 [==============================] - 6s 64ms/step - loss: 0.3090 - acc: 0.8720 - val_loss: 0.5630 - val_acc: 0.7450\n",
            "Epoch 15/30\n",
            "100/100 [==============================] - 6s 65ms/step - loss: 0.2854 - acc: 0.8780 - val_loss: 0.5067 - val_acc: 0.7350\n",
            "Epoch 16/30\n",
            "100/100 [==============================] - 6s 65ms/step - loss: 0.2617 - acc: 0.8910 - val_loss: 0.6814 - val_acc: 0.6950\n",
            "Epoch 17/30\n",
            "100/100 [==============================] - 6s 62ms/step - loss: 0.2415 - acc: 0.9065 - val_loss: 0.6967 - val_acc: 0.7200\n",
            "Epoch 18/30\n",
            "100/100 [==============================] - 6s 63ms/step - loss: 0.2199 - acc: 0.9170 - val_loss: 0.6467 - val_acc: 0.7200\n",
            "Epoch 19/30\n",
            "100/100 [==============================] - 6s 64ms/step - loss: 0.1961 - acc: 0.9245 - val_loss: 0.6084 - val_acc: 0.7150\n",
            "Epoch 20/30\n",
            "100/100 [==============================] - 6s 62ms/step - loss: 0.1865 - acc: 0.9295 - val_loss: 0.5893 - val_acc: 0.7550\n",
            "Epoch 21/30\n",
            "100/100 [==============================] - 6s 64ms/step - loss: 0.1629 - acc: 0.9425 - val_loss: 0.6671 - val_acc: 0.7300\n",
            "Epoch 22/30\n",
            "100/100 [==============================] - 6s 64ms/step - loss: 0.1470 - acc: 0.9530 - val_loss: 0.9524 - val_acc: 0.6850\n",
            "Epoch 23/30\n",
            "100/100 [==============================] - 6s 64ms/step - loss: 0.1299 - acc: 0.9570 - val_loss: 0.6906 - val_acc: 0.6850\n",
            "Epoch 24/30\n",
            "100/100 [==============================] - 6s 63ms/step - loss: 0.1054 - acc: 0.9665 - val_loss: 0.7393 - val_acc: 0.7600\n",
            "Epoch 25/30\n",
            "100/100 [==============================] - 6s 61ms/step - loss: 0.0917 - acc: 0.9710 - val_loss: 0.7491 - val_acc: 0.6950\n",
            "Epoch 26/30\n",
            "100/100 [==============================] - 6s 64ms/step - loss: 0.0823 - acc: 0.9755 - val_loss: 0.9264 - val_acc: 0.7100\n",
            "Epoch 27/30\n",
            "100/100 [==============================] - 6s 62ms/step - loss: 0.0755 - acc: 0.9760 - val_loss: 0.8815 - val_acc: 0.7300\n",
            "Epoch 28/30\n",
            "100/100 [==============================] - 6s 62ms/step - loss: 0.0561 - acc: 0.9870 - val_loss: 1.0243 - val_acc: 0.6850\n",
            "Epoch 29/30\n",
            "100/100 [==============================] - 6s 63ms/step - loss: 0.0501 - acc: 0.9865 - val_loss: 1.1240 - val_acc: 0.7150\n",
            "Epoch 30/30\n",
            "100/100 [==============================] - 6s 62ms/step - loss: 0.0468 - acc: 0.9875 - val_loss: 1.0499 - val_acc: 0.7050\n"
          ],
          "name": "stdout"
        }
      ]
    },
    {
      "cell_type": "code",
      "metadata": {
        "id": "MZaZ2HWZsNUi",
        "colab": {
          "base_uri": "https://localhost:8080/",
          "height": 545
        },
        "outputId": "53e28de5-14bb-4d86-93a8-0216eb5ed99a"
      },
      "source": [
        "model.save('cats_and_dogs_small_1.h5')\n",
        "\n",
        "import matplotlib.pyplot as plt\n",
        "\n",
        "acc = history.history['acc']\n",
        "val_acc = history.history['val_acc']\n",
        "loss = history.history['loss']\n",
        "val_loss = history.history['val_loss']\n",
        "\n",
        "epochs = range(1, len(acc) + 1)\n",
        "\n",
        "plt.plot(epochs, acc, 'bo', label='Training acc')\n",
        "plt.plot(epochs, val_acc, 'b', label='Validation acc')\n",
        "plt.title('Training and validation accuracy')\n",
        "plt.legend()\n",
        "\n",
        "plt.figure()\n",
        "\n",
        "plt.plot(epochs, loss, 'bo', label='Training loss')\n",
        "plt.plot(epochs, val_loss, 'b', label='Validation loss')\n",
        "plt.title('Training and validation loss')\n",
        "plt.legend()\n",
        "\n",
        "plt.show()"
      ],
      "execution_count": null,
      "outputs": [
        {
          "output_type": "display_data",
          "data": {
            "image/png": "[encoded data removed]",
            "text/plain": [
              "<Figure size 432x288 with 1 Axes>"
            ]
          },
          "metadata": {
            "tags": []
          }
        },
        {
          "output_type": "display_data",
          "data": {
            "image/png": "[encoded data removed]",
            "text/plain": [
              "<Figure size 432x288 with 1 Axes>"
            ]
          },
          "metadata": {
            "tags": []
          }
        }
      ]
    },
    {
      "cell_type": "markdown",
      "metadata": {
        "id": "XKZmXmBcq_8-"
      },
      "source": [
        "## Convolutional Networks with Dropout\n",
        "\n",
        "![alt text](https://camo.githubusercontent.com/ee6fa1073247cd2c3d241300caf110d7a7541bc5/68747470733a2f2f63646e2d696d616765732d312e6d656469756d2e636f6d2f6d61782f3830302f312a4972644a355067684439596f4f7956415137334d4a772e676966)\n",
        "\n",
        "Ref: https://github.com/mneha4/Training-Neural-Nets---Guidelines"
      ]
    },
    {
      "cell_type": "code",
      "metadata": {
        "id": "wu3cqeYQrDeN"
      },
      "source": [
        "from keras import layers\n",
        "from keras import models\n",
        "\n",
        "model = models.Sequential()\n",
        "model.add(layers.Conv2D(32, (3, 3), activation='relu',\n",
        "input_shape=(150, 150, 3)))\n",
        "model.add(layers.MaxPooling2D((2, 2)))\n",
        "model.add(layers.Conv2D(64, (3, 3), activation='relu'))\n",
        "model.add(layers.MaxPooling2D((2, 2)))\n",
        "model.add(layers.Conv2D(128, (3, 3), activation='relu'))\n",
        "model.add(layers.MaxPooling2D((2, 2)))\n",
        "model.add(layers.Conv2D(128, (3, 3), activation='relu'))\n",
        "model.add(layers.MaxPooling2D((2, 2)))\n",
        "model.add(layers.Flatten())\n",
        "model.add(layers.Dropout(0.5))\n",
        "model.add(layers.Dense(512, activation='relu'))\n",
        "model.add(layers.Dense(1, activation='sigmoid'))\n",
        "\n",
        "model.compile(loss='binary_crossentropy',\n",
        "              optimizer='adam',\n",
        "              metrics=['acc'])"
      ],
      "execution_count": null,
      "outputs": []
    },
    {
      "cell_type": "code",
      "metadata": {
        "id": "QSeLpvY0rH7F",
        "colab": {
          "base_uri": "https://localhost:8080/"
        },
        "outputId": "aef995e2-7ba9-46f7-a8a1-5f506d14c32b"
      },
      "source": [
        "from keras.preprocessing.image import ImageDataGenerator\n",
        "train_datagen = ImageDataGenerator(rescale=1./255,\n",
        "                                   rotation_range=40,\n",
        "                                   width_shift_range=0.2,\n",
        "                                   height_shift_range=0.2,\n",
        "                                   shear_range=0.2,\n",
        "                                   zoom_range=0.2,\n",
        "                                   horizontal_flip=True,)\n",
        "\n",
        "test_datagen = ImageDataGenerator(rescale=1./255)\n",
        "\n",
        "train_generator = train_datagen.flow_from_directory(train_dir,\n",
        "                                                    target_size=(150, 150),\n",
        "                                                    batch_size=20,\n",
        "                                                    class_mode='binary')\n",
        "\n",
        "validation_generator = test_datagen.flow_from_directory(validation_dir,\n",
        "                                                        target_size=(150, 150),\n",
        "                                                        batch_size=20,\n",
        "                                                        class_mode='binary')\n",
        "\n"
      ],
      "execution_count": null,
      "outputs": [
        {
          "output_type": "stream",
          "text": [
            "Found 2000 images belonging to 2 classes.\n",
            "Found 1000 images belonging to 2 classes.\n"
          ],
          "name": "stdout"
        }
      ]
    },
    {
      "cell_type": "code",
      "metadata": {
        "colab": {
          "base_uri": "https://localhost:8080/"
        },
        "id": "duaRL8Oox7we",
        "outputId": "5bb2f20c-e589-4976-9d69-6766323bfb91"
      },
      "source": [
        "history = model.fit_generator(train_generator,\n",
        "                              steps_per_epoch=100,\n",
        "                              epochs=30,\n",
        "                              validation_data=validation_generator,\n",
        "                              validation_steps=30)"
      ],
      "execution_count": null,
      "outputs": [
        {
          "output_type": "stream",
          "text": [
            "/usr/local/lib/python3.7/dist-packages/tensorflow/python/keras/engine/training.py:1844: UserWarning: `Model.fit_generator` is deprecated and will be removed in a future version. Please use `Model.fit`, which supports generators.\n",
            "  warnings.warn('`Model.fit_generator` is deprecated and '\n"
          ],
          "name": "stderr"
        },
        {
          "output_type": "stream",
          "text": [
            "Epoch 1/30\n",
            "100/100 [==============================] - 16s 162ms/step - loss: 0.5708 - acc: 0.7080 - val_loss: 0.5647 - val_acc: 0.7300\n",
            "Epoch 2/30\n",
            "100/100 [==============================] - 16s 160ms/step - loss: 0.6191 - acc: 0.6470 - val_loss: 0.6080 - val_acc: 0.6850\n",
            "Epoch 3/30\n",
            "100/100 [==============================] - 16s 161ms/step - loss: 0.5639 - acc: 0.7090 - val_loss: 0.6075 - val_acc: 0.6683\n",
            "Epoch 4/30\n",
            "100/100 [==============================] - 16s 160ms/step - loss: 0.5727 - acc: 0.7025 - val_loss: 0.5628 - val_acc: 0.6950\n",
            "Epoch 5/30\n",
            "100/100 [==============================] - 16s 160ms/step - loss: 0.5726 - acc: 0.6960 - val_loss: 0.5877 - val_acc: 0.6667\n",
            "Epoch 6/30\n",
            "100/100 [==============================] - 16s 161ms/step - loss: 0.5682 - acc: 0.7140 - val_loss: 0.5344 - val_acc: 0.7267\n",
            "Epoch 7/30\n",
            "100/100 [==============================] - 16s 160ms/step - loss: 0.5590 - acc: 0.7020 - val_loss: 0.5441 - val_acc: 0.7150\n",
            "Epoch 8/30\n",
            "100/100 [==============================] - 16s 160ms/step - loss: 0.5676 - acc: 0.7040 - val_loss: 0.5222 - val_acc: 0.7200\n",
            "Epoch 9/30\n",
            "100/100 [==============================] - 16s 160ms/step - loss: 0.5531 - acc: 0.7135 - val_loss: 0.5606 - val_acc: 0.7133\n",
            "Epoch 10/30\n",
            "100/100 [==============================] - 16s 160ms/step - loss: 0.5578 - acc: 0.7185 - val_loss: 0.5327 - val_acc: 0.7383\n",
            "Epoch 11/30\n",
            "100/100 [==============================] - 16s 161ms/step - loss: 0.5301 - acc: 0.7350 - val_loss: 0.5249 - val_acc: 0.7300\n",
            "Epoch 12/30\n",
            "100/100 [==============================] - 16s 161ms/step - loss: 0.5322 - acc: 0.7435 - val_loss: 0.5308 - val_acc: 0.7250\n",
            "Epoch 13/30\n",
            "100/100 [==============================] - 16s 160ms/step - loss: 0.5317 - acc: 0.7350 - val_loss: 0.5097 - val_acc: 0.7433\n",
            "Epoch 14/30\n",
            "100/100 [==============================] - 16s 160ms/step - loss: 0.5301 - acc: 0.7520 - val_loss: 0.4902 - val_acc: 0.7533\n",
            "Epoch 15/30\n",
            "100/100 [==============================] - 16s 160ms/step - loss: 0.5260 - acc: 0.7325 - val_loss: 0.5263 - val_acc: 0.7283\n",
            "Epoch 16/30\n",
            "100/100 [==============================] - 16s 162ms/step - loss: 0.5326 - acc: 0.7360 - val_loss: 0.5168 - val_acc: 0.7400\n",
            "Epoch 17/30\n",
            "100/100 [==============================] - 16s 161ms/step - loss: 0.5228 - acc: 0.7350 - val_loss: 0.5479 - val_acc: 0.6950\n",
            "Epoch 18/30\n",
            "100/100 [==============================] - 16s 162ms/step - loss: 0.5175 - acc: 0.7570 - val_loss: 0.5392 - val_acc: 0.7217\n",
            "Epoch 19/30\n",
            "100/100 [==============================] - 16s 160ms/step - loss: 0.5095 - acc: 0.7455 - val_loss: 0.4944 - val_acc: 0.7767\n",
            "Epoch 20/30\n",
            "100/100 [==============================] - 16s 160ms/step - loss: 0.5150 - acc: 0.7530 - val_loss: 0.4930 - val_acc: 0.7717\n",
            "Epoch 21/30\n",
            "100/100 [==============================] - 16s 163ms/step - loss: 0.4968 - acc: 0.7625 - val_loss: 0.4717 - val_acc: 0.7600\n",
            "Epoch 22/30\n",
            "100/100 [==============================] - 16s 161ms/step - loss: 0.5063 - acc: 0.7535 - val_loss: 0.4825 - val_acc: 0.7700\n",
            "Epoch 23/30\n",
            "100/100 [==============================] - 16s 161ms/step - loss: 0.5047 - acc: 0.7545 - val_loss: 0.4520 - val_acc: 0.7967\n",
            "Epoch 24/30\n",
            "100/100 [==============================] - 16s 161ms/step - loss: 0.4917 - acc: 0.7660 - val_loss: 0.5565 - val_acc: 0.7200\n",
            "Epoch 25/30\n",
            "100/100 [==============================] - 16s 161ms/step - loss: 0.5210 - acc: 0.7500 - val_loss: 0.4798 - val_acc: 0.7700\n",
            "Epoch 26/30\n",
            "100/100 [==============================] - 16s 161ms/step - loss: 0.4989 - acc: 0.7650 - val_loss: 0.5170 - val_acc: 0.7533\n",
            "Epoch 27/30\n",
            "100/100 [==============================] - 16s 161ms/step - loss: 0.4739 - acc: 0.7775 - val_loss: 0.4807 - val_acc: 0.7517\n",
            "Epoch 28/30\n",
            "100/100 [==============================] - 16s 163ms/step - loss: 0.4899 - acc: 0.7610 - val_loss: 0.4722 - val_acc: 0.7717\n",
            "Epoch 29/30\n",
            "100/100 [==============================] - 16s 163ms/step - loss: 0.4670 - acc: 0.7810 - val_loss: 0.4811 - val_acc: 0.7783\n",
            "Epoch 30/30\n",
            "100/100 [==============================] - 17s 168ms/step - loss: 0.4650 - acc: 0.7830 - val_loss: 0.4873 - val_acc: 0.7750\n"
          ],
          "name": "stdout"
        }
      ]
    },
    {
      "cell_type": "code",
      "metadata": {
        "colab": {
          "base_uri": "https://localhost:8080/",
          "height": 545
        },
        "id": "Viq2wgLe5nVx",
        "outputId": "b78e207a-337d-4019-f586-fbc9ee22ad51"
      },
      "source": [
        "model.save('cats_and_dogs_small_1.h5')\n",
        "\n",
        "import matplotlib.pyplot as plt\n",
        "\n",
        "acc = history.history['acc']\n",
        "val_acc = history.history['val_acc']\n",
        "loss = history.history['loss']\n",
        "val_loss = history.history['val_loss']\n",
        "\n",
        "epochs = range(1, len(acc) + 1)\n",
        "\n",
        "plt.plot(epochs, acc, 'bo', label='Training acc')\n",
        "plt.plot(epochs, val_acc, 'b', label='Validation acc')\n",
        "plt.title('Training and validation accuracy')\n",
        "plt.legend()\n",
        "\n",
        "plt.figure()\n",
        "\n",
        "plt.plot(epochs, loss, 'bo', label='Training loss')\n",
        "plt.plot(epochs, val_loss, 'b', label='Validation loss')\n",
        "plt.title('Training and validation loss')\n",
        "plt.legend()\n",
        "\n",
        "plt.show()"
      ],
      "execution_count": null,
      "outputs": [
        {
          "output_type": "display_data",
          "data": {
            "image/png": "[encoded data removed]",
            "text/plain": [
              "<Figure size 432x288 with 1 Axes>"
            ]
          },
          "metadata": {
            "tags": [],
            "needs_background": "light"
          }
        },
        {
          "output_type": "display_data",
          "data": {
            "image/png": "[encoded data removed]",
            "text/plain": [
              "<Figure size 432x288 with 1 Axes>"
            ]
          },
          "metadata": {
            "tags": [],
            "needs_background": "light"
          }
        }
      ]
    },
    {
      "cell_type": "markdown",
      "metadata": {
        "id": "BRdU5yrkUF_b"
      },
      "source": [
        "# Task 2:\n",
        "\n",
        "We have used Dropout to enhance the performance of the CNN model. Can you please use whatever you like to further enhance the performance from `val_acc: 0.7506`? "
      ]
    },
    {
      "cell_type": "markdown",
      "metadata": {
        "id": "XAJAu1Dc3etj"
      },
      "source": [
        "# TASK Solution\n",
        "# Final accuracy - 0.7750\n",
        "# acc to beat - 0.7506\n",
        "\n",
        "### By using a the optimizer 'adam' and reducing the validation set and changing the epoch to 30, the perfomance is enhanced. According to \"https://github.com/mneha4/Training-Neural-Nets---Guidelines\" , changing the size of the validation set helps when there is a problem of underfitting. \n",
        "### I tried several measures to enhance the perfomances, including, \n",
        "\n",
        "*   Changing only optimizer :- did not see increase in accuracy\n",
        "*   Changing only epochs :- increased the number of epochs, however did not see an increas\n",
        "*   Changing epoch and optimizer :- epoch to 30 and optimizer to 'adam', however did not see an increase\n",
        "\n",
        "### Finally a combination of changing the optimizer, epoch and validation set, showed enhanced perfomance. \n"
      ]
    }
  ]
}