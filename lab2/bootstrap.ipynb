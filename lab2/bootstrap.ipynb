{
  "nbformat": 4,
  "nbformat_minor": 0,
  "metadata": {
    "colab": {
      "name": "bootstrap.ipynb",
      "provenance": [],
      "collapsed_sections": []
    },
    "kernelspec": {
      "display_name": "Python 3",
      "language": "python",
      "name": "python3"
    },
    "language_info": {
      "codemirror_mode": {
        "name": "ipython",
        "version": 3
      },
      "file_extension": ".py",
      "mimetype": "text/x-python",
      "name": "python",
      "nbconvert_exporter": "python",
      "pygments_lexer": "ipython3",
      "version": "3.7.6"
    },
    "pycharm": {
      "stem_cell": {
        "cell_type": "raw",
        "metadata": {
          "collapsed": false
        },
        "source": []
      }
    }
  },
  "cells": [
    {
      "cell_type": "markdown",
      "metadata": {
        "id": "nCi_99yMYIb1"
      },
      "source": [
        "In this notebook you'll create your own bootstrap function following the bootstrap algorithm (check the lecture notes!)"
      ]
    },
    {
      "cell_type": "code",
      "metadata": {
        "id": "LY5zujI2YC37",
        "pycharm": {
          "name": "#%%# Imports\n"
        }
      },
      "source": [
        "import matplotlib\n",
        "import pandas as pd\n",
        "import seaborn as sns\n",
        "import numpy as np\n",
        "\n"
      ],
      "execution_count": null,
      "outputs": []
    },
    {
      "cell_type": "code",
      "metadata": {
        "id": "Eqkwj4SMY38t"
      },
      "source": [
        "# Load the data\n",
        "df = pd.read_csv('https://raw.githubusercontent.com/albanda/CE888/master/lab2%20-%20bootstrap/customers.csv')\n",
        "data = df.values.T[1]"
      ],
      "execution_count": null,
      "outputs": []
    },
    {
      "cell_type": "code",
      "metadata": {
        "id": "Gxvc_bScYC4H",
        "pycharm": {
          "name": "#%%\n"
        }
      },
      "source": [
        "# Checking the notes from the lecture, create here your own bootstrap function:\n",
        "# 1. Sample from the input array x to create an array of samples of shape (n_bootstraps, sample_size)\n",
        "# Hint: Check the function random.choice() on Numpy\n",
        "# 2. Calculate and save the mean of the array (this is \"data_mean\" that is returned by the function)\n",
        "# 3. Calculate the mean from each bootstrap (i.e., row) and store it.\n",
        "# (This should be an array of n_bootstraps values)\n",
        "# 4. Calculate the lower and upper bounds for a 95% CI (hint: check the percentile function on Numpy)\n",
        "# 5. Return data_mean, and the lower and upper bounds of your interval\n",
        "def bootstrap_mean(x, sample_size, n_bootstraps):\n",
        "  samples = np.random.choice(x,size=(sample_size , n_bootstraps) , replace = True)\n",
        "  data_mean = np.mean(data)\n",
        "  mean = np.mean(samples , axis=0)\n",
        "  lower = np.percentile(mean,2.5)\n",
        "  upper = np.percentile(mean ,97.5)\n",
        "  \n",
        "  return data_mean, lower, upper\n"
      ],
      "execution_count": null,
      "outputs": []
    },
    {
      "cell_type": "code",
      "metadata": {
        "id": "AN7sEOcMYC4P",
        "pycharm": {
          "name": "#%%\n"
        },
        "colab": {
          "base_uri": "https://localhost:8080/",
          "height": 454
        },
        "outputId": "a9443c25-18ea-458c-8e5c-2fefd4b007ea"
      },
      "source": [
        "# Call your bootstrap function and plot the results\n",
        "\n",
        "boots = []\n",
        "for i in range(100, 50000, 1000):\n",
        "    boot = bootstrap_mean(data, data.shape[0], i)\n",
        "    boots.append([i, boot[0], \"mean\"])\n",
        "    boots.append([i, boot[1], \"lower\"])\n",
        "    boots.append([i, boot[2], \"upper\"])\n",
        "\n",
        "df_boot = pd.DataFrame(boots, columns=['Bootstrap Iterations', 'Mean', \"Value\"])\n",
        "sns_plot = sns.lmplot(df_boot.columns[0], df_boot.columns[1], data=df_boot, fit_reg=False, hue=\"Value\")\n",
        "\n",
        "sns_plot.axes[0, 0].set_ylim(0,)\n",
        "sns_plot.axes[0, 0].set_xlim(0, 50000)\n"
      ],
      "execution_count": null,
      "outputs": [
        {
          "output_type": "stream",
          "text": [
            "/usr/local/lib/python3.7/dist-packages/seaborn/_decorators.py:43: FutureWarning: Pass the following variables as keyword args: x, y. From version 0.12, the only valid positional argument will be `data`, and passing other arguments without an explicit keyword will result in an error or misinterpretation.\n",
            "  FutureWarning\n"
          ],
          "name": "stderr"
        },
        {
          "output_type": "execute_result",
          "data": {
            "text/plain": [
              "(0.0, 50000.0)"
            ]
          },
          "metadata": {
            "tags": []
          },
          "execution_count": 4
        },
        {
          "output_type": "display_data",
          "data": {
            "image/png": "[encoded data removed]",
            "text/plain": [
              "<Figure size 425.125x360 with 1 Axes>"
            ]
          },
          "metadata": {
            "tags": [],
            "needs_background": "light"
          }
        }
      ]
    },
    {
      "cell_type": "markdown",
      "metadata": {
        "id": "MjtP4e2_YC4V"
      },
      "source": [
        "\n",
        "Now, modify the bootstrap function you created above so that you can pass your desired confidence interval as a parameter.\n",
        "\n"
      ]
    },
    {
      "cell_type": "code",
      "metadata": {
        "id": "3K9j0FuGYhHs"
      },
      "source": [
        "def bootstrap_mean_ci(sample, sample_size, n_bootstraps, ci):\n",
        "  samples = np.random.choice(sample,size=(sample_size , n_bootstraps) , replace = True)\n",
        "  data_mean = np.mean(data)\n",
        "  mean = np.mean(samples , axis=0)\n",
        "  alpha = 100 - ci\n",
        "  lower_alpha = (alpha/2)\n",
        "  upper_alpha = ci + (alpha/2)\n",
        "  lower = np.percentile(mean,lower_alpha)\n",
        "  upper = np.percentile(mean ,upper_alpha)\n",
        "\t\n",
        "  \n",
        "  return data_mean, lower, upper"
      ],
      "execution_count": null,
      "outputs": []
    },
    {
      "cell_type": "code",
      "metadata": {
        "id": "uDnjq08GYl-C",
        "colab": {
          "base_uri": "https://localhost:8080/",
          "height": 454
        },
        "outputId": "b4fad567-9c5d-4142-f0e9-e112ccfe00d5"
      },
      "source": [
        "boots = []\n",
        "for i in range(100, 50000, 1000):\n",
        "    boot = bootstrap_mean_ci(data, data.shape[0], i, 80)\n",
        "    boots.append([i, boot[0], \"mean\"])\n",
        "    boots.append([i, boot[1], \"lower\"])\n",
        "    boots.append([i, boot[2], \"upper\"])\n",
        "\n",
        "df_boot = pd.DataFrame(boots, columns=['Boostrap Iterations', 'Mean', \"Value\"])\n",
        "sns_plot = sns.lmplot(df_boot.columns[0], df_boot.columns[1], data=df_boot, fit_reg=False, hue=\"Value\")\n",
        "\n",
        "sns_plot.axes[0, 0].set_ylim(0,)\n",
        "sns_plot.axes[0, 0].set_xlim(0, 50000)\n",
        "\n",
        "#sns_plot.savefig(\"bootstrap_confidence_80.pdf\", bbox_inches='tight')\n"
      ],
      "execution_count": null,
      "outputs": [
        {
          "output_type": "stream",
          "text": [
            "/usr/local/lib/python3.7/dist-packages/seaborn/_decorators.py:43: FutureWarning: Pass the following variables as keyword args: x, y. From version 0.12, the only valid positional argument will be `data`, and passing other arguments without an explicit keyword will result in an error or misinterpretation.\n",
            "  FutureWarning\n"
          ],
          "name": "stderr"
        },
        {
          "output_type": "execute_result",
          "data": {
            "text/plain": [
              "(0.0, 50000.0)"
            ]
          },
          "metadata": {
            "tags": []
          },
          "execution_count": 6
        },
        {
          "output_type": "display_data",
          "data": {
            "image/png": "[encoded data removed]",
            "text/plain": [
              "<Figure size 425.125x360 with 1 Axes>"
            ]
          },
          "metadata": {
            "tags": [],
            "needs_background": "light"
          }
        }
      ]
    },
    {
      "cell_type": "markdown",
      "metadata": {
        "id": "qjNgXW6wdd7r"
      },
      "source": [
        "# Vehicles dataset\n",
        "\n",
        "Now let's work on a different dataset, which is stored in the vehicles.csv file.\n"
      ]
    },
    {
      "cell_type": "code",
      "metadata": {
        "id": "avWv4ipFdpka",
        "colab": {
          "base_uri": "https://localhost:8080/",
          "height": 204
        },
        "outputId": "0bd2b9fa-d570-4682-dba0-28f17d73b8f0"
      },
      "source": [
        "# Load and visualise the vehicles dataset\n",
        "\n",
        "# To load the dataset: https://neptune.ai/blog/google-colab-dealing-with-files (check section \"Load individual files directly from GitHub\")\n",
        "\n",
        "df = pd.read_csv(\"https://raw.githubusercontent.com/albanda/CE888/master/lab2%20-%20bootstrap/vehicles.csv\" , delimiter = \",\")\n",
        "df.head()\n",
        "\n",
        "\n",
        "\n",
        "# Note that the current and new fleets are in different columns and have different lengths, so bear this in mind when you're plotting.\n",
        "# You can create separate scatterplots for the two fleets, as you would with the histograms, \n",
        "# or plot them both in one plot (but not one against the other).\n",
        "# <---INSERT YOUR CODE HERE--->\n",
        "# Note: you can add more cells as needed to organise your code and your plots\n"
      ],
      "execution_count": null,
      "outputs": [
        {
          "output_type": "execute_result",
          "data": {
            "text/html": [
              "<div>\n",
              "<style scoped>\n",
              "    .dataframe tbody tr th:only-of-type {\n",
              "        vertical-align: middle;\n",
              "    }\n",
              "\n",
              "    .dataframe tbody tr th {\n",
              "        vertical-align: top;\n",
              "    }\n",
              "\n",
              "    .dataframe thead th {\n",
              "        text-align: right;\n",
              "    }\n",
              "</style>\n",
              "<table border=\"1\" class=\"dataframe\">\n",
              "  <thead>\n",
              "    <tr style=\"text-align: right;\">\n",
              "      <th></th>\n",
              "      <th>Current fleet</th>\n",
              "      <th>New Fleet</th>\n",
              "    </tr>\n",
              "  </thead>\n",
              "  <tbody>\n",
              "    <tr>\n",
              "      <th>0</th>\n",
              "      <td>18</td>\n",
              "      <td>24.0</td>\n",
              "    </tr>\n",
              "    <tr>\n",
              "      <th>1</th>\n",
              "      <td>15</td>\n",
              "      <td>27.0</td>\n",
              "    </tr>\n",
              "    <tr>\n",
              "      <th>2</th>\n",
              "      <td>18</td>\n",
              "      <td>27.0</td>\n",
              "    </tr>\n",
              "    <tr>\n",
              "      <th>3</th>\n",
              "      <td>16</td>\n",
              "      <td>25.0</td>\n",
              "    </tr>\n",
              "    <tr>\n",
              "      <th>4</th>\n",
              "      <td>17</td>\n",
              "      <td>31.0</td>\n",
              "    </tr>\n",
              "  </tbody>\n",
              "</table>\n",
              "</div>"
            ],
            "text/plain": [
              "   Current fleet  New Fleet\n",
              "0             18       24.0\n",
              "1             15       27.0\n",
              "2             18       27.0\n",
              "3             16       25.0\n",
              "4             17       31.0"
            ]
          },
          "metadata": {
            "tags": []
          },
          "execution_count": 10
        }
      ]
    },
    {
      "cell_type": "code",
      "metadata": {
        "colab": {
          "base_uri": "https://localhost:8080/",
          "height": 296
        },
        "id": "9x6u8YFA5wRP",
        "outputId": "d3c5976b-b76e-49eb-979b-714d359ddc91"
      },
      "source": [
        "new_fleet_plot = sns.histplot(df , x=\"Current fleet\" )\n",
        "new_fleet_plot\n"
      ],
      "execution_count": null,
      "outputs": [
        {
          "output_type": "execute_result",
          "data": {
            "text/plain": [
              "<matplotlib.axes._subplots.AxesSubplot at 0x7f6b5330bd68>"
            ]
          },
          "metadata": {
            "tags": []
          },
          "execution_count": 31
        },
        {
          "output_type": "display_data",
          "data": {
            "image/png": "[encoded data removed]",
            "text/plain": [
              "<Figure size 432x288 with 1 Axes>"
            ]
          },
          "metadata": {
            "tags": [],
            "needs_background": "light"
          }
        }
      ]
    },
    {
      "cell_type": "code",
      "metadata": {
        "colab": {
          "base_uri": "https://localhost:8080/",
          "height": 296
        },
        "id": "DcBMUZC36OYD",
        "outputId": "6cd65475-81a7-40bd-a728-f0bc2a612137"
      },
      "source": [
        "old_fleet_plot = sns.histplot(df , x=\"New Fleet\")\n",
        "old_fleet_plot"
      ],
      "execution_count": null,
      "outputs": [
        {
          "output_type": "execute_result",
          "data": {
            "text/plain": [
              "<matplotlib.axes._subplots.AxesSubplot at 0x7f6b53182c88>"
            ]
          },
          "metadata": {
            "tags": []
          },
          "execution_count": 33
        },
        {
          "output_type": "display_data",
          "data": {
            "image/png": "[encoded data removed]",
            "text/plain": [
              "<Figure size 432x288 with 1 Axes>"
            ]
          },
          "metadata": {
            "tags": [],
            "needs_background": "light"
          }
        }
      ]
    },
    {
      "cell_type": "markdown",
      "metadata": {
        "id": "B5d0tXDpIEj8"
      },
      "source": [
        "## Compare the two fleets\n",
        "\n",
        "The business analysts come up a comparison algorithm that requires the upper and lower bounds for the mean in order to say which fleet is better.\n",
        "1. Calculate the mean of both samples.\n",
        "2. Using the bootstrap function that you created:\n",
        "    - Construct the 95% CI of the mean of the current fleet.\n",
        "    - Construct the 95% CI of the mean of the new fleet.\n",
        "    - Are they comparable? (i.e., is one better than the other?) -- you can do this with a permutation test (check the lecture notes!)"
      ]
    },
    {
      "cell_type": "code",
      "metadata": {
        "colab": {
          "base_uri": "https://localhost:8080/"
        },
        "id": "FWc7ch0SfkUe",
        "outputId": "902b5e8e-8d13-43b3-b411-52c41c945073"
      },
      "source": [
        "df.isna().sum()"
      ],
      "execution_count": null,
      "outputs": [
        {
          "output_type": "execute_result",
          "data": {
            "text/plain": [
              "Current fleet      0\n",
              "New Fleet        170\n",
              "dtype: int64"
            ]
          },
          "metadata": {
            "tags": []
          },
          "execution_count": 18
        }
      ]
    },
    {
      "cell_type": "code",
      "metadata": {
        "id": "fRnfSk0ug1NB"
      },
      "source": [
        "#there are na's present in the new fleet coloumns, hence dropping them\n",
        "df = df.dropna()"
      ],
      "execution_count": null,
      "outputs": []
    },
    {
      "cell_type": "code",
      "metadata": {
        "id": "po4mp6zRHC0m",
        "colab": {
          "base_uri": "https://localhost:8080/"
        },
        "outputId": "9c9bcb0c-be9e-408f-97e3-3df3bbdf735f"
      },
      "source": [
        "#getting mean of values\n",
        "current_data = df.values.T[0]\n",
        "current_mean = np.mean(current_data)\n",
        "current_mean\n",
        "\n"
      ],
      "execution_count": null,
      "outputs": [
        {
          "output_type": "execute_result",
          "data": {
            "text/plain": [
              "16.025316455696203"
            ]
          },
          "metadata": {
            "tags": []
          },
          "execution_count": 21
        }
      ]
    },
    {
      "cell_type": "code",
      "metadata": {
        "colab": {
          "base_uri": "https://localhost:8080/"
        },
        "id": "SPkLnXLYeFab",
        "outputId": "4bc96da3-7c87-47a4-94f5-ee217d1507d6"
      },
      "source": [
        "new_data = df.values.T[1]\n",
        "new_mean= np.mean(new_data)\n",
        "new_mean"
      ],
      "execution_count": null,
      "outputs": [
        {
          "output_type": "execute_result",
          "data": {
            "text/plain": [
              "30.481012658227847"
            ]
          },
          "metadata": {
            "tags": []
          },
          "execution_count": 20
        }
      ]
    },
    {
      "cell_type": "code",
      "metadata": {
        "id": "MkxvDZG4HC0n"
      },
      "source": [
        "# Create your own function for a permutation test here (you will need it for the lab quiz!):\n",
        "def permut_test(sample1, sample2, n_permutations):\n",
        "    \n",
        "    #concat both arrays\n",
        "    s1_mean = np.mean(sample1)\n",
        "    s2_mean = np.mean(sample2)\n",
        "    t_obs = s2_mean - s1_mean\n",
        "\n",
        "    #concat\n",
        "    concat = np.concatenate((sample1 , sample2))\n",
        "\n",
        "    count = 0\n",
        "    for i in range(n_permutations):\n",
        "      perm = np.random.permutation(concat)\n",
        "      #split\n",
        "      pold = perm[:int(len(perm)/2)]\n",
        "      pnew = perm[int(len(perm)/2):]\n",
        "      pold_mean = np.mean(pold)\n",
        "      pnew_mean = np.mean(pnew)\n",
        "      t_perm = pnew_mean - pold_mean\n",
        "      if t_perm > t_obs:\n",
        "        count += 1\n",
        "\n",
        "    p_value = count/n_permutations\n",
        "    \n",
        "    return p_value"
      ],
      "execution_count": 1,
      "outputs": []
    }
  ]
}