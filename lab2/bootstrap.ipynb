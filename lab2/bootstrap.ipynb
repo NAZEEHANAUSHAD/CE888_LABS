{
  "nbformat": 4,
  "nbformat_minor": 0,
  "metadata": {
    "colab": {
      "name": "bootstrap.ipynb",
      "provenance": [],
      "collapsed_sections": []
    },
    "kernelspec": {
      "display_name": "Python 3",
      "language": "python",
      "name": "python3"
    },
    "language_info": {
      "codemirror_mode": {
        "name": "ipython",
        "version": 3
      },
      "file_extension": ".py",
      "mimetype": "text/x-python",
      "name": "python",
      "nbconvert_exporter": "python",
      "pygments_lexer": "ipython3",
      "version": "3.7.6"
    },
    "pycharm": {
      "stem_cell": {
        "cell_type": "raw",
        "metadata": {
          "collapsed": false
        },
        "source": []
      }
    }
  },
  "cells": [
    {
      "cell_type": "markdown",
      "metadata": {
        "id": "nCi_99yMYIb1"
      },
      "source": [
        "In this notebook you'll create your own bootstrap function following the bootstrap algorithm (check the lecture notes!)"
      ]
    },
    {
      "cell_type": "code",
      "metadata": {
        "id": "LY5zujI2YC37",
        "pycharm": {
          "name": "#%%# Imports\n"
        }
      },
      "source": [
        "import matplotlib\n",
        "import pandas as pd\n",
        "import seaborn as sns\n",
        "import numpy as np\n",
        "\n"
      ],
      "execution_count": 1,
      "outputs": []
    },
    {
      "cell_type": "code",
      "metadata": {
        "id": "Eqkwj4SMY38t"
      },
      "source": [
        "# Load the data\n",
        "df = pd.read_csv('https://raw.githubusercontent.com/albanda/CE888/master/lab2%20-%20bootstrap/customers.csv')\n",
        "data = df.values.T[1]"
      ],
      "execution_count": 2,
      "outputs": []
    },
    {
      "cell_type": "code",
      "metadata": {
        "id": "Gxvc_bScYC4H",
        "pycharm": {
          "name": "#%%\n"
        }
      },
      "source": [
        "# Checking the notes from the lecture, create here your own bootstrap function:\n",
        "# 1. Sample from the input array x to create an array of samples of shape (n_bootstraps, sample_size)\n",
        "# Hint: Check the function random.choice() on Numpy\n",
        "# 2. Calculate and save the mean of the array (this is \"data_mean\" that is returned by the function)\n",
        "# 3. Calculate the mean from each bootstrap (i.e., row) and store it.\n",
        "# (This should be an array of n_bootstraps values)\n",
        "# 4. Calculate the lower and upper bounds for a 95% CI (hint: check the percentile function on Numpy)\n",
        "# 5. Return data_mean, and the lower and upper bounds of your interval\n",
        "def bootstrap_mean(x, sample_size, n_bootstraps):\n",
        "  samples = np.random.choice(x,size=(sample_size , n_bootstraps) , replace = True)\n",
        "  data_mean = np.mean(data)\n",
        "  mean = np.mean(samples , axis=0)\n",
        "  lower = np.percentile(mean,2.5)\n",
        "  upper = np.percentile(mean ,97.5)\n",
        "  \n",
        "  return data_mean, lower, upper\n"
      ],
      "execution_count": 3,
      "outputs": []
    },
    {
      "cell_type": "code",
      "metadata": {
        "id": "AN7sEOcMYC4P",
        "pycharm": {
          "name": "#%%\n"
        },
        "colab": {
          "base_uri": "https://localhost:8080/",
          "height": 454
        },
        "outputId": "8a4d9b06-b467-40ab-e48e-82adf5ec37c0"
      },
      "source": [
        "# Call your bootstrap function and plot the results\n",
        "\n",
        "boots = []\n",
        "for i in range(100, 50000, 1000):\n",
        "    boot = bootstrap_mean(data, data.shape[0], i)\n",
        "    boots.append([i, boot[0], \"mean\"])\n",
        "    boots.append([i, boot[1], \"lower\"])\n",
        "    boots.append([i, boot[2], \"upper\"])\n",
        "\n",
        "df_boot = pd.DataFrame(boots, columns=['Bootstrap Iterations', 'Mean', \"Value\"])\n",
        "sns_plot = sns.lmplot(df_boot.columns[0], df_boot.columns[1], data=df_boot, fit_reg=False, hue=\"Value\")\n",
        "\n",
        "sns_plot.axes[0, 0].set_ylim(0,)\n",
        "sns_plot.axes[0, 0].set_xlim(0, 50000)\n"
      ],
      "execution_count": 4,
      "outputs": [
        {
          "output_type": "stream",
          "text": [
            "/usr/local/lib/python3.7/dist-packages/seaborn/_decorators.py:43: FutureWarning: Pass the following variables as keyword args: x, y. From version 0.12, the only valid positional argument will be `data`, and passing other arguments without an explicit keyword will result in an error or misinterpretation.\n",
            "  FutureWarning\n"
          ],
          "name": "stderr"
        },
        {
          "output_type": "execute_result",
          "data": {
            "text/plain": [
              "(0.0, 50000.0)"
            ]
          },
          "metadata": {
            "tags": []
          },
          "execution_count": 4
        },
        {
          "output_type": "display_data",
          "data": {
            "image/png": "[encoded data removed]",
            "text/plain": [
              "<Figure size 425.125x360 with 1 Axes>"
            ]
          },
          "metadata": {
            "tags": [],
            "needs_background": "light"
          }
        }
      ]
    },
    {
      "cell_type": "markdown",
      "metadata": {
        "id": "MjtP4e2_YC4V"
      },
      "source": [
        "\n",
        "Now, modify the bootstrap function you created above so that you can pass your desired confidence interval as a parameter.\n",
        "\n"
      ]
    },
    {
      "cell_type": "code",
      "metadata": {
        "id": "3K9j0FuGYhHs"
      },
      "source": [
        "def bootstrap_mean_ci(sample, sample_size, n_bootstraps, ci):\n",
        "  samples = np.random.choice(sample,size=(sample_size , n_bootstraps) , replace = True)\n",
        "  data_mean = np.mean(data)\n",
        "  mean = np.mean(samples , axis=0)\n",
        "  alpha = 100 - ci\n",
        "  lower_alpha = (alpha/2)\n",
        "  upper_alpha = ci + (alpha/2)\n",
        "  lower = np.percentile(mean,lower_alpha)\n",
        "  upper = np.percentile(mean ,upper_alpha)\n",
        "\t\n",
        "  \n",
        "  return data_mean, lower, upper"
      ],
      "execution_count": 5,
      "outputs": []
    },
    {
      "cell_type": "code",
      "metadata": {
        "colab": {
          "base_uri": "https://localhost:8080/"
        },
        "id": "979QExjCQWuU",
        "outputId": "be7b922b-bf02-48e6-f62b-790f725b88b1"
      },
      "source": [
        "data.shape[0]"
      ],
      "execution_count": null,
      "outputs": [
        {
          "output_type": "execute_result",
          "data": {
            "text/plain": [
              "14"
            ]
          },
          "metadata": {
            "tags": []
          },
          "execution_count": 36
        }
      ]
    },
    {
      "cell_type": "code",
      "metadata": {
        "id": "uDnjq08GYl-C",
        "colab": {
          "base_uri": "https://localhost:8080/",
          "height": 454
        },
        "outputId": "b4fad567-9c5d-4142-f0e9-e112ccfe00d5"
      },
      "source": [
        "boots = []\n",
        "for i in range(100, 50000, 1000):\n",
        "    boot = bootstrap_mean_ci(data, data.shape[0], i, 80)\n",
        "    boots.append([i, boot[0], \"mean\"])\n",
        "    boots.append([i, boot[1], \"lower\"])\n",
        "    boots.append([i, boot[2], \"upper\"])\n",
        "\n",
        "df_boot = pd.DataFrame(boots, columns=['Boostrap Iterations', 'Mean', \"Value\"])\n",
        "sns_plot = sns.lmplot(df_boot.columns[0], df_boot.columns[1], data=df_boot, fit_reg=False, hue=\"Value\")\n",
        "\n",
        "sns_plot.axes[0, 0].set_ylim(0,)\n",
        "sns_plot.axes[0, 0].set_xlim(0, 50000)\n",
        "\n",
        "#sns_plot.savefig(\"bootstrap_confidence_80.pdf\", bbox_inches='tight')\n"
      ],
      "execution_count": null,
      "outputs": [
        {
          "output_type": "stream",
          "text": [
            "/usr/local/lib/python3.7/dist-packages/seaborn/_decorators.py:43: FutureWarning: Pass the following variables as keyword args: x, y. From version 0.12, the only valid positional argument will be `data`, and passing other arguments without an explicit keyword will result in an error or misinterpretation.\n",
            "  FutureWarning\n"
          ],
          "name": "stderr"
        },
        {
          "output_type": "execute_result",
          "data": {
            "text/plain": [
              "(0.0, 50000.0)"
            ]
          },
          "metadata": {
            "tags": []
          },
          "execution_count": 6
        },
        {
          "output_type": "display_data",
          "data": {
            "image/png": "[encoded data removed]",
            "text/plain": [
              "<Figure size 425.125x360 with 1 Axes>"
            ]
          },
          "metadata": {
            "tags": [],
            "needs_background": "light"
          }
        }
      ]
    },
    {
      "cell_type": "markdown",
      "metadata": {
        "id": "qjNgXW6wdd7r"
      },
      "source": [
        "# Vehicles dataset\n",
        "\n",
        "Now let's work on a different dataset, which is stored in the vehicles.csv file.\n"
      ]
    },
    {
      "cell_type": "code",
      "metadata": {
        "id": "avWv4ipFdpka",
        "colab": {
          "base_uri": "https://localhost:8080/",
          "height": 204
        },
        "outputId": "d9aa29c9-48c6-4af9-90e8-e77690085580"
      },
      "source": [
        "# Load and visualise the vehicles dataset\n",
        "\n",
        "# To load the dataset: https://neptune.ai/blog/google-colab-dealing-with-files (check section \"Load individual files directly from GitHub\")\n",
        "\n",
        "df = pd.read_csv(\"https://raw.githubusercontent.com/albanda/CE888/master/lab2%20-%20bootstrap/vehicles.csv\" , delimiter = \",\")\n",
        "df.head()\n",
        "\n",
        "\n",
        "\n",
        "# Note that the current and new fleets are in different columns and have different lengths, so bear this in mind when you're plotting.\n",
        "# You can create separate scatterplots for the two fleets, as you would with the histograms, \n",
        "# or plot them both in one plot (but not one against the other).\n",
        "# <---INSERT YOUR CODE HERE--->\n",
        "# Note: you can add more cells as needed to organise your code and your plots\n"
      ],
      "execution_count": 10,
      "outputs": [
        {
          "output_type": "execute_result",
          "data": {
            "text/html": [
              "<div>\n",
              "<style scoped>\n",
              "    .dataframe tbody tr th:only-of-type {\n",
              "        vertical-align: middle;\n",
              "    }\n",
              "\n",
              "    .dataframe tbody tr th {\n",
              "        vertical-align: top;\n",
              "    }\n",
              "\n",
              "    .dataframe thead th {\n",
              "        text-align: right;\n",
              "    }\n",
              "</style>\n",
              "<table border=\"1\" class=\"dataframe\">\n",
              "  <thead>\n",
              "    <tr style=\"text-align: right;\">\n",
              "      <th></th>\n",
              "      <th>Current fleet</th>\n",
              "      <th>New Fleet</th>\n",
              "    </tr>\n",
              "  </thead>\n",
              "  <tbody>\n",
              "    <tr>\n",
              "      <th>0</th>\n",
              "      <td>18</td>\n",
              "      <td>24.0</td>\n",
              "    </tr>\n",
              "    <tr>\n",
              "      <th>1</th>\n",
              "      <td>15</td>\n",
              "      <td>27.0</td>\n",
              "    </tr>\n",
              "    <tr>\n",
              "      <th>2</th>\n",
              "      <td>18</td>\n",
              "      <td>27.0</td>\n",
              "    </tr>\n",
              "    <tr>\n",
              "      <th>3</th>\n",
              "      <td>16</td>\n",
              "      <td>25.0</td>\n",
              "    </tr>\n",
              "    <tr>\n",
              "      <th>4</th>\n",
              "      <td>17</td>\n",
              "      <td>31.0</td>\n",
              "    </tr>\n",
              "  </tbody>\n",
              "</table>\n",
              "</div>"
            ],
            "text/plain": [
              "   Current fleet  New Fleet\n",
              "0             18       24.0\n",
              "1             15       27.0\n",
              "2             18       27.0\n",
              "3             16       25.0\n",
              "4             17       31.0"
            ]
          },
          "metadata": {
            "tags": []
          },
          "execution_count": 10
        }
      ]
    },
    {
      "cell_type": "code",
      "metadata": {
        "colab": {
          "base_uri": "https://localhost:8080/",
          "height": 296
        },
        "id": "9x6u8YFA5wRP",
        "outputId": "d3c5976b-b76e-49eb-979b-714d359ddc91"
      },
      "source": [
        "new_fleet_plot = sns.histplot(df , x=\"Current fleet\" )\n",
        "new_fleet_plot\n"
      ],
      "execution_count": null,
      "outputs": [
        {
          "output_type": "execute_result",
          "data": {
            "text/plain": [
              "<matplotlib.axes._subplots.AxesSubplot at 0x7f6b5330bd68>"
            ]
          },
          "metadata": {
            "tags": []
          },
          "execution_count": 31
        },
        {
          "output_type": "display_data",
          "data": {
            "image/png": "[encoded data removed]",
            "text/plain": [
              "<Figure size 432x288 with 1 Axes>"
            ]
          },
          "metadata": {
            "tags": [],
            "needs_background": "light"
          }
        }
      ]
    },
    {
      "cell_type": "code",
      "metadata": {
        "colab": {
          "base_uri": "https://localhost:8080/",
          "height": 296
        },
        "id": "DcBMUZC36OYD",
        "outputId": "6cd65475-81a7-40bd-a728-f0bc2a612137"
      },
      "source": [
        "old_fleet_plot = sns.histplot(df , x=\"New Fleet\")\n",
        "old_fleet_plot"
      ],
      "execution_count": null,
      "outputs": [
        {
          "output_type": "execute_result",
          "data": {
            "text/plain": [
              "<matplotlib.axes._subplots.AxesSubplot at 0x7f6b53182c88>"
            ]
          },
          "metadata": {
            "tags": []
          },
          "execution_count": 33
        },
        {
          "output_type": "display_data",
          "data": {
            "image/png": "[encoded data removed]",
            "text/plain": [
              "<Figure size 432x288 with 1 Axes>"
            ]
          },
          "metadata": {
            "tags": [],
            "needs_background": "light"
          }
        }
      ]
    },
    {
      "cell_type": "markdown",
      "metadata": {
        "id": "B5d0tXDpIEj8"
      },
      "source": [
        "## Compare the two fleets\n",
        "\n",
        "The business analysts come up a comparison algorithm that requires the upper and lower bounds for the mean in order to say which fleet is better.\n",
        "1. Calculate the mean of both samples.\n",
        "2. Using the bootstrap function that you created:\n",
        "    - Construct the 95% CI of the mean of the current fleet.\n",
        "    - Construct the 95% CI of the mean of the new fleet.\n",
        "    - Are they comparable? (i.e., is one better than the other?) -- you can do this with a permutation test (check the lecture notes!)"
      ]
    },
    {
      "cell_type": "code",
      "metadata": {
        "colab": {
          "base_uri": "https://localhost:8080/"
        },
        "id": "FWc7ch0SfkUe",
        "outputId": "902b5e8e-8d13-43b3-b411-52c41c945073"
      },
      "source": [
        "df.isna().sum()"
      ],
      "execution_count": null,
      "outputs": [
        {
          "output_type": "execute_result",
          "data": {
            "text/plain": [
              "Current fleet      0\n",
              "New Fleet        170\n",
              "dtype: int64"
            ]
          },
          "metadata": {
            "tags": []
          },
          "execution_count": 18
        }
      ]
    },
    {
      "cell_type": "code",
      "metadata": {
        "id": "fRnfSk0ug1NB"
      },
      "source": [
        "#there are na's present in the new fleet coloumns, hence dropping them\n",
        "df = df.dropna()"
      ],
      "execution_count": 11,
      "outputs": []
    },
    {
      "cell_type": "code",
      "metadata": {
        "id": "po4mp6zRHC0m",
        "colab": {
          "base_uri": "https://localhost:8080/"
        },
        "outputId": "4bb79e7a-c4e6-4492-b049-32076a3bd1d3"
      },
      "source": [
        "#getting mean of values\n",
        "current_data = df.values.T[0]\n",
        "current_mean = np.mean(current_data)\n",
        "current_mean\n",
        "\n"
      ],
      "execution_count": 12,
      "outputs": [
        {
          "output_type": "execute_result",
          "data": {
            "text/plain": [
              "16.025316455696203"
            ]
          },
          "metadata": {
            "tags": []
          },
          "execution_count": 12
        }
      ]
    },
    {
      "cell_type": "code",
      "metadata": {
        "colab": {
          "base_uri": "https://localhost:8080/"
        },
        "id": "SPkLnXLYeFab",
        "outputId": "8abc8d19-4dce-4bac-dae0-04bf580d6899"
      },
      "source": [
        "new_data = df.values.T[1]\n",
        "new_mean= np.mean(new_data)\n",
        "new_mean"
      ],
      "execution_count": 49,
      "outputs": [
        {
          "output_type": "execute_result",
          "data": {
            "text/plain": [
              "30.481012658227847"
            ]
          },
          "metadata": {
            "tags": []
          },
          "execution_count": 49
        }
      ]
    },
    {
      "cell_type": "code",
      "metadata": {
        "id": "MkxvDZG4HC0n"
      },
      "source": [
        "# Create your own function for a permutation test here (you will need it for the lab quiz!):\n",
        "def permut_test(sample1, sample2, n_permutations):\n",
        "    \n",
        "    #concat both arrays\n",
        "    s1_mean = np.mean(sample1)\n",
        "    s2_mean = np.mean(sample2)\n",
        "    t_obs = s2_mean - s1_mean\n",
        "\n",
        "    #concat\n",
        "    concat = np.concatenate((sample1 , sample2))\n",
        "\n",
        "    count = 0\n",
        "    for i in range(n_permutations):\n",
        "      perm = np.random.permutation(concat)\n",
        "      #split\n",
        "      pold = perm[:int(len(perm)/2)]\n",
        "      pnew = perm[int(len(perm)/2):]\n",
        "      pold_mean = np.mean(pold)\n",
        "      pnew_mean = np.mean(pnew)\n",
        "      t_perm = pnew_mean - pold_mean\n",
        "      if t_perm > t_obs:\n",
        "        count += 1\n",
        "\n",
        "    p_value = count/n_permutations\n",
        "    \n",
        "    return p_value"
      ],
      "execution_count": 31,
      "outputs": []
    },
    {
      "cell_type": "markdown",
      "metadata": {
        "id": "MczQ2vifBgQ4"
      },
      "source": [
        "## Voting dataset"
      ]
    },
    {
      "cell_type": "markdown",
      "metadata": {
        "id": "rIGcSA9rZ__w"
      },
      "source": [
        "##### The voting dataset seemed inaccessible, hence just took the values into lists, as the data was small."
      ]
    },
    {
      "cell_type": "code",
      "metadata": {
        "id": "og84SVUsPNbZ"
      },
      "source": [
        "dem_share_PA = [60.08, 40.64, 36.07, 41.21, 31.04, 43.78, 44.08, 46.85, 44.71, 46.15, 63.10, 52.20, 43.18, 40.24, 39.92, 47.87, 37.77, 40.11, 49.85, 48.61, 38.62, 54.25, 34.84, 47.75, 43.82, 55.97, 58.23, 42.97, 42.38, 36.11, 37.53, 42.65, 50.96, 47.43, 56.24, 45.60, 46.39, 35.22, 48.56, 32.97, 57.88, 36.05, 37.72, 50.36, 32.12, 41.55, 54.66, 57.81, 54.58, 32.88, 54.37, 40.45, 47.61, 60.49, 43.11, 27.32, 44.03, 33.56, 37.26, 54.64, 43.12, 25.34, 49.79, 83.56, 40.09, 60.81, 49.81]"
      ],
      "execution_count": 24,
      "outputs": []
    },
    {
      "cell_type": "code",
      "metadata": {
        "colab": {
          "base_uri": "https://localhost:8080/"
        },
        "id": "FSBjfwnCPebE",
        "outputId": "15e64c77-6b65-49b5-93e5-887d9bdcfcbe"
      },
      "source": [
        "len(dem_share_PA)"
      ],
      "execution_count": null,
      "outputs": [
        {
          "output_type": "execute_result",
          "data": {
            "text/plain": [
              "67"
            ]
          },
          "metadata": {
            "tags": []
          },
          "execution_count": 32
        }
      ]
    },
    {
      "cell_type": "code",
      "metadata": {
        "id": "eRVU3t69PRe3"
      },
      "source": [
        "dem_share_OH = [56.94, 50.46, 65.99, 45.88, 42.23, 45.26, 57.01, 53.61, 59.10, 61.48, 43.43, 44.69, 54.59, 48.36, 45.89, 48.62, 43.92, 38.23, 28.79, 63.57, 38.07, 40.18, 43.05, 41.56, 42.49, 36.06, 52.76, 46.07, 39.43, 39.26, 47.47, 27.92, 38.01, 45.45, 29.07, 28.94, 51.28, 50.10, 39.84, 36.43, 35.71, 31.47, 47.01, 40.10, 48.76, 31.56, 39.86, 45.31, 35.47, 51.38, 46.33, 48.73, 41.77, 41.32, 48.46, 53.14, 34.01, 54.74, 40.67, 38.96, 46.29, 38.25, 6.80, 31.75, 46.33, 44.90, 33.57, 38.10, 39.67, 40.47, 49.44, 37.62, 36.71, 46.73, 42.20, 53.16, 52.40, 58.36, 68.02, 38.53, 34.58, 69.64, 60.50, 53.53, 36.54, 49.58, 41.97, 38.11]\n"
      ],
      "execution_count": 25,
      "outputs": []
    },
    {
      "cell_type": "code",
      "metadata": {
        "colab": {
          "base_uri": "https://localhost:8080/"
        },
        "id": "ubb-3dn2PlF3",
        "outputId": "0db7d7cd-5dd3-49dc-aae9-3ee548e74a0a"
      },
      "source": [
        "len(dem_share_OH)"
      ],
      "execution_count": null,
      "outputs": [
        {
          "output_type": "execute_result",
          "data": {
            "text/plain": [
              "88"
            ]
          },
          "metadata": {
            "tags": []
          },
          "execution_count": 33
        }
      ]
    },
    {
      "cell_type": "markdown",
      "metadata": {
        "id": "-mjHXo1wWoth"
      },
      "source": [
        "# Quiz works\n"
      ]
    },
    {
      "cell_type": "code",
      "metadata": {
        "colab": {
          "base_uri": "https://localhost:8080/"
        },
        "id": "9xhtZW8GGLXD",
        "outputId": "58b5363c-cfa8-4bf5-d738-8b878627c767"
      },
      "source": [
        "permut_test(current_data , new_data , 30000)"
      ],
      "execution_count": null,
      "outputs": [
        {
          "output_type": "execute_result",
          "data": {
            "text/plain": [
              "0.0"
            ]
          },
          "metadata": {
            "tags": []
          },
          "execution_count": 18
        }
      ]
    },
    {
      "cell_type": "code",
      "metadata": {
        "colab": {
          "base_uri": "https://localhost:8080/"
        },
        "id": "0pgnFVr-_ZUC",
        "outputId": "876451ed-245f-4ffc-dd43-50c21e0f1a4b"
      },
      "source": [
        "#confidence interval \n",
        "bootstrap_mean_ci(data , data.shape[0], 10000 , 95)"
      ],
      "execution_count": 38,
      "outputs": [
        {
          "output_type": "execute_result",
          "data": {
            "text/plain": [
              "(9.214285714285714, 6.498214285714288, 12.357142857142858)"
            ]
          },
          "metadata": {
            "tags": []
          },
          "execution_count": 38
        }
      ]
    },
    {
      "cell_type": "markdown",
      "metadata": {
        "id": "Sa6bfexIYB3R"
      },
      "source": [
        "# Bootstrap function for quiz questions (rough work)"
      ]
    },
    {
      "cell_type": "markdown",
      "metadata": {
        "id": "0Pk1infDYLSa"
      },
      "source": [
        "###### Bootstrap to find c.i of mean for new and old fleets from vehicles dataset"
      ]
    },
    {
      "cell_type": "code",
      "metadata": {
        "id": "KIwZVf9yTNyd"
      },
      "source": [
        "def bootstrap_mean_ci_new(sample, sample_size, n_bootstraps, ci):\n",
        "  samples = np.random.choice(sample,size=(sample_size , n_bootstraps) , replace = True)\n",
        "  data_mean = np.mean(new_data)\n",
        "  mean = np.mean(samples , axis=0)\n",
        "  alpha = 100 - ci\n",
        "  lower_alpha = (alpha/2)\n",
        "  upper_alpha = ci + (alpha/2)\n",
        "  lower = np.percentile(mean,lower_alpha)\n",
        "  upper = np.percentile(mean ,upper_alpha)\n",
        "\t\n",
        "  \n",
        "  return data_mean, lower, upper"
      ],
      "execution_count": 50,
      "outputs": []
    },
    {
      "cell_type": "code",
      "metadata": {
        "colab": {
          "base_uri": "https://localhost:8080/"
        },
        "id": "3wrMixPvTUfb",
        "outputId": "5915a95a-dd82-4b59-fb3a-5f5027d1c10e"
      },
      "source": [
        "bootstrap_mean_ci_new(new_data , new_data.shape[0] , 10000 ,60)"
      ],
      "execution_count": 52,
      "outputs": [
        {
          "output_type": "execute_result",
          "data": {
            "text/plain": [
              "(30.481012658227847, 29.89873417721519, 31.050632911392405)"
            ]
          },
          "metadata": {
            "tags": []
          },
          "execution_count": 52
        }
      ]
    },
    {
      "cell_type": "code",
      "metadata": {
        "id": "kn5N2OBMI91z"
      },
      "source": [
        "def bootstrap_mean_ci_old(sample, sample_size, n_bootstraps, ci):\n",
        "  samples = np.random.choice(sample,size=(sample_size , n_bootstraps) , replace = True)\n",
        "  data_mean = np.mean(current_data)\n",
        "  mean = np.mean(samples , axis=0)\n",
        "  alpha = 100 - ci\n",
        "  lower_alpha = (alpha/2)\n",
        "  upper_alpha = ci + (alpha/2)\n",
        "  lower = np.percentile(mean,lower_alpha)\n",
        "  upper = np.percentile(mean ,upper_alpha)\n",
        "\t\n",
        "  \n",
        "  return data_mean, lower, upper"
      ],
      "execution_count": 48,
      "outputs": []
    },
    {
      "cell_type": "code",
      "metadata": {
        "colab": {
          "base_uri": "https://localhost:8080/"
        },
        "id": "ctRh9pg8JFHT",
        "outputId": "79733e61-f9c2-4b30-94fd-a4995e857c5c"
      },
      "source": [
        "bootstrap_mean_ci_old(current_data , current_data.shape[0] , 10000 , 80)"
      ],
      "execution_count": 53,
      "outputs": [
        {
          "output_type": "execute_result",
          "data": {
            "text/plain": [
              "(16.025316455696203, 15.417721518987342, 16.632911392405063)"
            ]
          },
          "metadata": {
            "tags": []
          },
          "execution_count": 53
        }
      ]
    },
    {
      "cell_type": "markdown",
      "metadata": {
        "id": "uz9lVMNdYYp3"
      },
      "source": [
        "###### Bootstrap function to finc c.i of mean for voting data"
      ]
    },
    {
      "cell_type": "code",
      "metadata": {
        "id": "VPDHjnF9P0_R"
      },
      "source": [
        "def bootstrap_mean_ci_PA(sample, sample_size, n_bootstraps, ci):\n",
        "  samples = np.random.choice(sample,size=(sample_size , n_bootstraps) , replace = True)\n",
        "  data_mean = np.mean(dem_share_PA)\n",
        "  mean = np.mean(samples , axis=0)\n",
        "  alpha = 100 - ci\n",
        "  lower_alpha = (alpha/2)\n",
        "  upper_alpha = ci + (alpha/2)\n",
        "  lower = np.percentile(mean,lower_alpha)\n",
        "  upper = np.percentile(mean ,upper_alpha)\n",
        "\t\n",
        "  \n",
        "  return data_mean, lower, upper"
      ],
      "execution_count": 57,
      "outputs": []
    },
    {
      "cell_type": "code",
      "metadata": {
        "colab": {
          "base_uri": "https://localhost:8080/"
        },
        "id": "g612meLRQBv5",
        "outputId": "84ba25d4-2d46-48b6-9208-f0d42b9e9b54"
      },
      "source": [
        "bootstrap_mean_ci_OH(dem_share_OH , len(dem_share_OH) , 25000, 90)"
      ],
      "execution_count": 59,
      "outputs": [
        {
          "output_type": "execute_result",
          "data": {
            "text/plain": [
              "(44.31818181818182, 42.5989715909091, 46.05843181818183)"
            ]
          },
          "metadata": {
            "tags": []
          },
          "execution_count": 59
        }
      ]
    },
    {
      "cell_type": "markdown",
      "metadata": {
        "id": "B_0Tp-guYh8A"
      },
      "source": [
        "### Bootstrap function to find standard deviation"
      ]
    },
    {
      "cell_type": "code",
      "metadata": {
        "id": "Qx43Sxy6BoZk"
      },
      "source": [
        "def bootstrap_cisd(sample, sample_size , n_bootstraps , ci):\n",
        "  boot_sd = []\n",
        "  bootstrap = np.random.choice(sample , (n_bootstraps, sample_size))\n",
        "  data_sd= np.std(data)\n",
        "  for boot in bootstrap:\n",
        "    boot_sd.append(np.std(boot))\n",
        "  alpha = (100- ci)\n",
        "  lower_alpha = (alpha/2)\n",
        "  upper_alpha = ci + (alpha/2)\n",
        "  lower = np.percentile(boot_sd , lower_alpha)\n",
        "  upper = np.percentile(boot_sd , upper_alpha)\n",
        "  \n",
        "  return data_sd , lower , upper"
      ],
      "execution_count": 6,
      "outputs": []
    },
    {
      "cell_type": "code",
      "metadata": {
        "colab": {
          "base_uri": "https://localhost:8080/"
        },
        "id": "4QSWd40GIy4K",
        "outputId": "15cc0e48-2546-4c57-bc01-6adca284c205"
      },
      "source": [
        "bootstrap_cisd(data, data.shape[0] , 10000 , 95)"
      ],
      "execution_count": 55,
      "outputs": [
        {
          "output_type": "execute_result",
          "data": {
            "text/plain": [
              "(5.684296305594556, 2.7562544830821056, 7.352980792210206)"
            ]
          },
          "metadata": {
            "tags": []
          },
          "execution_count": 55
        }
      ]
    },
    {
      "cell_type": "markdown",
      "metadata": {
        "id": "IZYxz4fEYpRD"
      },
      "source": [
        "### Bootstrap functions to find standard deviation c.i for vehincles dataset"
      ]
    },
    {
      "cell_type": "code",
      "metadata": {
        "id": "sr5ChtCDJHxA"
      },
      "source": [
        "def bootstrap_cisd_veh_old(sample, sample_size , n_bootstraps , ci):\n",
        "  boot_sd = []\n",
        "  bootstrap = np.random.choice(sample , (n_bootstraps, sample_size))\n",
        "  data_sd= np.std(current_data)\n",
        "  for boot in bootstrap:\n",
        "    boot_sd.append(np.std(boot))\n",
        "  alpha = (100- ci)\n",
        "  lower_alpha = (alpha/2)\n",
        "  upper_alpha = ci + (alpha/2)\n",
        "  lower = np.percentile(boot_sd , lower_alpha)\n",
        "  upper = np.percentile(boot_sd , upper_alpha)\n",
        "  \n",
        "  return data_sd , lower , upper"
      ],
      "execution_count": 34,
      "outputs": []
    },
    {
      "cell_type": "code",
      "metadata": {
        "colab": {
          "base_uri": "https://localhost:8080/"
        },
        "id": "zpb00UmSP4-J",
        "outputId": "930bffc0-0ec4-47d5-80fa-c538e0a77537"
      },
      "source": [
        "bootstrap_cisd_veh_old(current_data , current_data.shape[0] , 10000 ,73)"
      ],
      "execution_count": 40,
      "outputs": [
        {
          "output_type": "execute_result",
          "data": {
            "text/plain": [
              "(4.170343407965598, 3.7131044519022236, 4.538217425494015)"
            ]
          },
          "metadata": {
            "tags": []
          },
          "execution_count": 40
        }
      ]
    },
    {
      "cell_type": "code",
      "metadata": {
        "colab": {
          "base_uri": "https://localhost:8080/"
        },
        "id": "2tkPlbdAJZeF",
        "outputId": "5b7f3f55-a90f-4a38-80c5-f817885a965b"
      },
      "source": [
        "bootstrap_cisd_veh_old(current_data , current_data.shape[0] , 10000 , 99)"
      ],
      "execution_count": 54,
      "outputs": [
        {
          "output_type": "execute_result",
          "data": {
            "text/plain": [
              "(4.170343407965598, 3.1173697103860127, 5.052617524674701)"
            ]
          },
          "metadata": {
            "tags": []
          },
          "execution_count": 54
        }
      ]
    },
    {
      "cell_type": "code",
      "metadata": {
        "id": "Uie4GjxxOM7c"
      },
      "source": [
        "def bootstrap_cisd_veh_new(sample, sample_size , n_bootstraps , ci):\n",
        "  boot_sd = []\n",
        "  bootstrap = np.random.choice(sample , (n_bootstraps, sample_size))\n",
        "  data_sd= np.std(new_data)\n",
        "  for boot in bootstrap:\n",
        "    boot_sd.append(np.std(boot))\n",
        "  alpha = (100- ci)\n",
        "  lower_alpha = (alpha/2)\n",
        "  upper_alpha = ci + (alpha/2)\n",
        "  lower = np.percentile(boot_sd , lower_alpha)\n",
        "  upper = np.percentile(boot_sd , upper_alpha)\n",
        "  \n",
        "  return data_sd , lower , upper"
      ],
      "execution_count": 33,
      "outputs": []
    },
    {
      "cell_type": "code",
      "metadata": {
        "colab": {
          "base_uri": "https://localhost:8080/"
        },
        "id": "AySG6AssOTmp",
        "outputId": "7f06ad75-ae90-493c-ab0f-6ef6adf56736"
      },
      "source": [
        "bootstrap_cisd_veh_new(new_data , new_data.shape[0] , 10000 , 99)"
      ],
      "execution_count": 39,
      "outputs": [
        {
          "output_type": "execute_result",
          "data": {
            "text/plain": [
              "(6.068930545150857, 4.860555770326324, 7.187537282908072)"
            ]
          },
          "metadata": {
            "tags": []
          },
          "execution_count": 39
        }
      ]
    },
    {
      "cell_type": "markdown",
      "metadata": {
        "id": "woGRgU7_ZzcD"
      },
      "source": [
        "### permutation of voting dataset"
      ]
    },
    {
      "cell_type": "code",
      "metadata": {
        "colab": {
          "base_uri": "https://localhost:8080/"
        },
        "id": "VPpzhIwVRP67",
        "outputId": "3fcb5dc5-123e-4430-e3aa-039ca8f26d53"
      },
      "source": [
        "permut_test(dem_share_OH , dem_share_PA , 20000)"
      ],
      "execution_count": 61,
      "outputs": [
        {
          "output_type": "execute_result",
          "data": {
            "text/plain": [
              "0.236"
            ]
          },
          "metadata": {
            "tags": []
          },
          "execution_count": 61
        }
      ]
    }
  ]
}